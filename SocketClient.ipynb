{
 "cells": [
  {
   "cell_type": "code",
   "execution_count": 1,
   "metadata": {
    "collapsed": true
   },
   "outputs": [],
   "source": [
    "import socket"
   ]
  },
  {
   "cell_type": "code",
   "execution_count": 2,
   "metadata": {
    "collapsed": true
   },
   "outputs": [],
   "source": [
    "sock = socket.socket(socket.AF_INET,socket.SOCK_STREAM)"
   ]
  },
  {
   "cell_type": "code",
   "execution_count": 9,
   "metadata": {},
   "outputs": [],
   "source": [
    "sock.connect(('xiangwendeMBP',9999))"
   ]
  },
  {
   "cell_type": "code",
   "execution_count": 10,
   "metadata": {},
   "outputs": [
    {
     "name": "stdout",
     "output_type": "stream",
     "text": [
      "Hello,Nice,To,meet,you\n",
      "Hello,Nice,To,meet,you\n",
      "Hello,Nice,To,meet,you\n",
      "Hello,Nice,To,meet,you\n",
      "Hello,Nice,To,meet,you\n",
      "Hello,Nice,To,meet,you\n",
      "Hello,Nice,To,meet,you\n",
      "Hello,Nice,To,meet,you\n",
      "Hello,Nice,To,meet,you\n",
      "Hello,Nice,To,meet,you\n",
      "Hello,Nice,To,meet,you\n",
      "Hello,Nice,To,meet,you\n",
      "Hello,Nice,To,meet,you\n",
      "Hello,Nice,To,meet,you\n",
      "Hello,Nice,To,meet,you\n",
      "Hello,Nice,To,meet,you\n",
      "Hello,Nice,To,meet,you\n",
      "Hello,Nice,To,meet,you\n",
      "Hello,Nice,To,meet,you\n",
      "Hello,Nice,To,meet,you\n",
      "Hello,Nice,To,meet,you\n",
      "Hello,Nice,To,meet,you\n",
      "Hello,Nice,To,meet,you\n",
      "Hello,Nice,To,meet,you\n",
      "Hello,Nice,To,meet,you\n",
      "Hello,Nice,To,meet,you\n",
      "Hello,Nice,To,meet,you\n",
      "Hello,Nice,To,meet,you\n",
      "Hello,Nice,To,meet,you\n",
      "Hello,Nice,To,meet,you\n",
      "Hello,Nice,To,meet,you\n",
      "Hello,Nice,To,meet,you\n",
      "Hello,Nice,To,meet,you\n",
      "Hello,Nice,To,meet,you\n",
      "Hello,Nice,To,meet,you\n",
      "Hello,Nice,To,meet,you\n",
      "Hello,Nice,To,meet,you\n",
      "Hello,Nice,To,meet,you\n",
      "Hello,Nice,To,meet,you\n",
      "Hello,Nice,To,meet,you\n",
      "Hello,Nice,To,meet,you\n",
      "Hello,Nice,To,meet,you\n",
      "Hello,Nice,To,meet,you\n",
      "Hello,Nice,To,meet,you\n",
      "Hello,Nice,To,meet,you\n",
      "Hello,Nice,To,meet,you\n",
      "Hello,Nice,To,meet,you\n",
      "Hello,Nice,To,meet,you\n",
      "Hello,Nice,To,meet,you\n",
      "Hello,Nice,To,meet,you\n",
      "Hello,Nice,To,meet,you\n",
      "Hello,Nice,To,meet,you\n",
      "Hello,Nice,To,meet,you\n",
      "Hello,Nice,To,meet,you\n",
      "Hello,Nice,To,meet,you\n",
      "Hello,Nice,To,meet,you\n",
      "Hello,Nice,To,meet,you\n",
      "Hello,Nice,To,meet,you\n",
      "Hello,Nice,To,meet,you\n",
      "Hello,Nice,To,meet,you\n",
      "Hello,Nice,To,meet,you\n",
      "Hello,Nice,To,meet,you\n",
      "Hello,Nice,To,meet,you\n",
      "Hello,Nice,To,meet,you\n",
      "Hello,Nice,To,meet,you\n",
      "Hello,Nice,To,meet,you\n",
      "Hello,Nice,To,meet,you\n",
      "Hello,Nice,To,meet,you\n",
      "Hello,Nice,To,meet,you\n",
      "Hello,Nice,To,meet,you\n",
      "Hello,Nice,To,meet,you\n",
      "Hello,Nice,To,meet,you\n"
     ]
    },
    {
     "ename": "KeyboardInterrupt",
     "evalue": "",
     "output_type": "error",
     "traceback": [
      "\u001b[0;31m---------------------------------------------------------------------------\u001b[0m",
      "\u001b[0;31mKeyboardInterrupt\u001b[0m                         Traceback (most recent call last)",
      "\u001b[0;32m<ipython-input-10-2168339dcd5b>\u001b[0m in \u001b[0;36m<module>\u001b[0;34m()\u001b[0m\n\u001b[1;32m      1\u001b[0m \u001b[0;32mwhile\u001b[0m \u001b[0mTrue\u001b[0m\u001b[0;34m:\u001b[0m\u001b[0;34m\u001b[0m\u001b[0m\n\u001b[0;32m----> 2\u001b[0;31m     \u001b[0;32mprint\u001b[0m \u001b[0msock\u001b[0m\u001b[0;34m.\u001b[0m\u001b[0mrecv\u001b[0m\u001b[0;34m(\u001b[0m\u001b[0;36m2048\u001b[0m\u001b[0;34m)\u001b[0m\u001b[0;34m\u001b[0m\u001b[0m\n\u001b[0m",
      "\u001b[0;31mKeyboardInterrupt\u001b[0m: "
     ]
    }
   ],
   "source": [
    "while True:\n",
    "    print sock.recv(2048)"
   ]
  },
  {
   "cell_type": "code",
   "execution_count": null,
   "metadata": {
    "collapsed": true
   },
   "outputs": [],
   "source": [
    "sock.close()"
   ]
  },
  {
   "cell_type": "code",
   "execution_count": null,
   "metadata": {
    "collapsed": true
   },
   "outputs": [],
   "source": []
  }
 ],
 "metadata": {
  "kernelspec": {
   "display_name": "Python 2",
   "language": "python",
   "name": "python2"
  },
  "language_info": {
   "codemirror_mode": {
    "name": "ipython",
    "version": 2
   },
   "file_extension": ".py",
   "mimetype": "text/x-python",
   "name": "python",
   "nbconvert_exporter": "python",
   "pygments_lexer": "ipython2",
   "version": "2.7.13"
  }
 },
 "nbformat": 4,
 "nbformat_minor": 2
}
