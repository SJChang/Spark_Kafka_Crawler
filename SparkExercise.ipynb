{
 "cells": [
  {
   "cell_type": "code",
   "execution_count": 31,
   "metadata": {
    "collapsed": true
   },
   "outputs": [],
   "source": [
    "from pyspark.sql import SparkSession"
   ]
  },
  {
   "cell_type": "code",
   "execution_count": 32,
   "metadata": {
    "collapsed": false
   },
   "outputs": [
    {
     "ename": "AttributeError",
     "evalue": "type object 'SparkContext' has no attribute 'builder'",
     "output_type": "error",
     "traceback": [
      "\u001b[1;31m---------------------------------------------------------------------------\u001b[0m",
      "\u001b[1;31mAttributeError\u001b[0m                            Traceback (most recent call last)",
      "\u001b[1;32m<ipython-input-32-fb4181cc8ac0>\u001b[0m in \u001b[0;36m<module>\u001b[1;34m()\u001b[0m\n\u001b[1;32m----> 1\u001b[1;33m \u001b[0mspark\u001b[0m \u001b[1;33m=\u001b[0m \u001b[0mSparkContext\u001b[0m\u001b[1;33m.\u001b[0m\u001b[0mbuilder\u001b[0m\u001b[1;33m.\u001b[0m\u001b[0mappName\u001b[0m\u001b[1;33m(\u001b[0m\u001b[1;34m\"SparkExercise\"\u001b[0m\u001b[1;33m)\u001b[0m\u001b[1;33m.\u001b[0m\u001b[0mgetOrCreate\u001b[0m\u001b[1;33m(\u001b[0m\u001b[1;33m)\u001b[0m\u001b[1;33m\u001b[0m\u001b[0m\n\u001b[0m",
      "\u001b[1;31mAttributeError\u001b[0m: type object 'SparkContext' has no attribute 'builder'"
     ]
    }
   ],
   "source": [
    "spark = SparkContext.builder.appName(\"SparkExercise\").getOrCreate()"
   ]
  },
  {
   "cell_type": "code",
   "execution_count": 33,
   "metadata": {
    "collapsed": true
   },
   "outputs": [],
   "source": [
    "sc=spark.sparkContext"
   ]
  },
  {
   "cell_type": "code",
   "execution_count": 34,
   "metadata": {
    "collapsed": true
   },
   "outputs": [],
   "source": [
    "user_raw_rdd=sc.textFile(\"/user/spark/dataset/users.dat\")"
   ]
  },
  {
   "cell_type": "code",
   "execution_count": 35,
   "metadata": {
    "collapsed": false
   },
   "outputs": [
    {
     "data": {
      "text/plain": [
       "[u'1::F::1::10::48067',\n",
       " u'2::M::56::16::70072',\n",
       " u'3::M::25::15::55117',\n",
       " u'4::M::45::7::02460',\n",
       " u'5::M::25::20::55455',\n",
       " u'6::F::50::9::55117',\n",
       " u'7::M::35::1::06810',\n",
       " u'8::M::25::12::11413',\n",
       " u'9::M::25::17::61614',\n",
       " u'10::F::35::1::95370']"
      ]
     },
     "execution_count": 35,
     "metadata": {},
     "output_type": "execute_result"
    }
   ],
   "source": [
    "user_raw_rdd.take(10)\n"
   ]
  },
  {
   "cell_type": "code",
   "execution_count": 36,
   "metadata": {
    "collapsed": false
   },
   "outputs": [],
   "source": [
    "user_raw_rdd=user_raw_rdd.map(lambda data:data.split(\"::\"))"
   ]
  },
  {
   "cell_type": "code",
   "execution_count": 37,
   "metadata": {
    "collapsed": false
   },
   "outputs": [
    {
     "data": {
      "text/plain": [
       "[(u'M', 4331), (u'F', 1709)]"
      ]
     },
     "execution_count": 37,
     "metadata": {},
     "output_type": "execute_result"
    }
   ],
   "source": [
    "#計算男女生個別數量\n",
    "user_raw_rdd.map(lambda lst_data:(lst_data[1],1)).reduceByKey(lambda x1,x2:x1+x2).collect()"
   ]
  },
  {
   "cell_type": "code",
   "execution_count": 49,
   "metadata": {
    "collapsed": false
   },
   "outputs": [
    {
     "data": {
      "text/plain": [
       "[((u'M', u'13'), 108),\n",
       " ((u'M', u'5'), 81),\n",
       " ((u'F', u'12'), 50),\n",
       " ((u'F', u'16'), 51),\n",
       " ((u'M', u'3'), 73),\n",
       " ((u'M', u'11'), 107),\n",
       " ((u'F', u'2'), 91),\n",
       " ((u'F', u'10'), 66),\n",
       " ((u'M', u'17'), 450),\n",
       " ((u'F', u'6'), 102)]"
      ]
     },
     "execution_count": 49,
     "metadata": {},
     "output_type": "execute_result"
    }
   ],
   "source": [
    "#計算各職業男女生數量\n",
    "user_raw_rdd.map(lambda lst_data:((lst_data[1],lst_data[3]),1))\\\n",
    "                .reduceByKey(lambda x1,x2:x1+x2).take(10)"
   ]
  },
  {
   "cell_type": "code",
   "execution_count": 50,
   "metadata": {
    "collapsed": false
   },
   "outputs": [
    {
     "data": {
      "text/plain": [
       "[(u'F', (1, 1)),\n",
       " (u'M', (56, 1)),\n",
       " (u'M', (25, 1)),\n",
       " (u'M', (45, 1)),\n",
       " (u'M', (25, 1)),\n",
       " (u'F', (50, 1)),\n",
       " (u'M', (35, 1)),\n",
       " (u'M', (25, 1)),\n",
       " (u'M', (25, 1)),\n",
       " (u'F', (35, 1))]"
      ]
     },
     "execution_count": 50,
     "metadata": {},
     "output_type": "execute_result"
    }
   ],
   "source": [
    "#計算男生女生的平均年齡\n",
    "user_raw_rdd.map(lambda lst_data:(lst_data[1],(int(lst_data[2]),1))).take(10)"
   ]
  },
  {
   "cell_type": "code",
   "execution_count": 52,
   "metadata": {
    "collapsed": false
   },
   "outputs": [
    {
     "data": {
      "text/plain": [
       "[(u'M', (132322, 4331)), (u'F', (52739, 1709))]"
      ]
     },
     "execution_count": 52,
     "metadata": {},
     "output_type": "execute_result"
    }
   ],
   "source": [
    "user_raw_rdd.map(lambda lst_data:(lst_data[1],(int(lst_data[2]),1)))\\\n",
    ".reduceByKey(lambda x1,x2:(x1[0]+x2[0],x1[1]+x2[1])).take(10)"
   ]
  },
  {
   "cell_type": "code",
   "execution_count": 55,
   "metadata": {
    "collapsed": false
   },
   "outputs": [
    {
     "data": {
      "text/plain": [
       "[(u'M', 30.552297390902794), (u'F', 30.85956699824459)]"
      ]
     },
     "execution_count": 55,
     "metadata": {},
     "output_type": "execute_result"
    }
   ],
   "source": [
    "user_raw_rdd.map(lambda lst_data:(lst_data[1],(1,int(lst_data[2]))))\\\n",
    "                                  .reduceByKey(lambda x1,x2:(x1[0]+x2[0],x1[1]+x2[1]))\\\n",
    "    .map(lambda res:(res[0],res[1][1]/float(res[1][0]))).collect()"
   ]
  }
 ],
 "metadata": {
  "kernelspec": {
   "display_name": "Python 2",
   "language": "python",
   "name": "python2"
  },
  "language_info": {
   "codemirror_mode": {
    "name": "ipython",
    "version": 2
   },
   "file_extension": ".py",
   "mimetype": "text/x-python",
   "name": "python",
   "nbconvert_exporter": "python",
   "pygments_lexer": "ipython2",
   "version": "2.7.5"
  }
 },
 "nbformat": 4,
 "nbformat_minor": 0
}
