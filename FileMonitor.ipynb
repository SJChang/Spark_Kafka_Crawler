{
 "cells": [
  {
   "cell_type": "code",
   "execution_count": null,
   "metadata": {
    "collapsed": true
   },
   "outputs": [],
   "source": [
    "SLEEP_INTERVAL = 1.0\n",
    "def tail(fin):\n",
    "    while True:\n",
    "        where = fin.tell()\n",
    "        line = fin.readline()\n",
    "        if not line:\n",
    "            time.sleep(SLEEP_INTERVAL)\n",
    "            fin.seek(where)\n",
    "        else:\n",
    "            yield line\n",
    "def readlines_then_tail(fin):\n",
    "    while True:\n",
    "        line = fin.readline()\n",
    "        if line:\n",
    "            yield line\n",
    "        else:\n",
    "            tail(fin)"
   ]
  },
  {
   "cell_type": "code",
   "execution_count": null,
   "metadata": {
    "collapsed": false
   },
   "outputs": [],
   "source": [
    "with open('/var/log/ambari-agent/ambari-agent.log', 'r') as fin:\n",
    "    for line in readlines_then_tail(fin):\n",
    "        print line.strip() + '\\r\\n'"
   ]
  },
  {
   "cell_type": "code",
   "execution_count": null,
   "metadata": {
    "collapsed": true
   },
   "outputs": [],
   "source": []
  }
 ],
 "metadata": {
  "kernelspec": {
   "display_name": "Python 2",
   "language": "python",
   "name": "python2"
  },
  "language_info": {
   "codemirror_mode": {
    "name": "ipython",
    "version": 2
   },
   "file_extension": ".py",
   "mimetype": "text/x-python",
   "name": "python",
   "nbconvert_exporter": "python",
   "pygments_lexer": "ipython2",
   "version": "2.7.5"
  }
 },
 "nbformat": 4,
 "nbformat_minor": 0
}
