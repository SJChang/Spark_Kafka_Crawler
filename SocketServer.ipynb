{
 "cells": [
  {
   "cell_type": "code",
   "execution_count": null,
   "metadata": {
    "collapsed": true
   },
   "outputs": [],
   "source": [
    "import socket\n",
    "import time\n",
    "import random\n",
    "serv_sock = socket.socket(socket.AF_INET,socket.SOCK_STREAM)\n",
    "serv_sock.setsockopt(socket.SOL_SOCKET,socket.SO_REUSEADDR,1)"
   ]
  },
  {
   "cell_type": "code",
   "execution_count": null,
   "metadata": {
    "collapsed": false
   },
   "outputs": [],
   "source": [
    "lst_word = [\"President Donald Trump's administration released a new batch of documents about John F. Kennedy's assassination Friday that included a secret FBI analysis that portrayed civil rights leader Martin Luther King Jr. in a harshly negative light\",\n",
    "            \"The 20-page document attempts to tie the civil rights leader to various communist influences and alleges financial improprieties at the Southern Christian Leadership Conference, the civil rights organization that he led\",\n",
    "           \"The document also contains insinuations and assertions about King's personal life, including extramarital affairs and other sexual improprieties that would have been deeply embarrassing to King at the time.\",\n",
    "           \"It covers a time in King's life when he was pushing for monumental, and now much-celebrated, change in America.\"]\n",
    "serv_sock.bind(('192.168.101.76',9999))"
   ]
  },
  {
   "cell_type": "code",
   "execution_count": null,
   "metadata": {
    "collapsed": false
   },
   "outputs": [],
   "source": [
    "while True:\n",
    "    serv_sock.listen(0)\n",
    "    coming_sock,address = serv_sock.accept()\n",
    "    print address, \" Connected\"\n",
    "    while True:\n",
    "        try:\n",
    "            #send_data = \",\".join([\"Hello\",\"Nice\",\"To\",\"meet\", \"you\"])\n",
    "            #client.send(send_data)\n",
    "            coming_sock.send(random.sample(lst_word,1)[0] + \"\\n\")\n",
    "        except:\n",
    "            print \"Connection Closed\"\n",
    "            coming_sock.close()\n",
    "            break\n",
    "        time.sleep(1)\n",
    "\n"
   ]
  },
  {
   "cell_type": "code",
   "execution_count": null,
   "metadata": {
    "collapsed": true
   },
   "outputs": [],
   "source": []
  }
 ],
 "metadata": {
  "kernelspec": {
   "display_name": "Python 2",
   "language": "python",
   "name": "python2"
  },
  "language_info": {
   "codemirror_mode": {
    "name": "ipython",
    "version": 2
   },
   "file_extension": ".py",
   "mimetype": "text/x-python",
   "name": "python",
   "nbconvert_exporter": "python",
   "pygments_lexer": "ipython2",
   "version": "2.7.5"
  }
 },
 "nbformat": 4,
 "nbformat_minor": 0
}
